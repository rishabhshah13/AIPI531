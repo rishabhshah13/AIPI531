{
 "cells": [
  {
   "cell_type": "code",
   "execution_count": 1,
   "metadata": {},
   "outputs": [
    {
     "name": "stderr",
     "output_type": "stream",
     "text": [
      "/Library/Frameworks/Python.framework/Versions/3.10/lib/python3.10/site-packages/stable_baselines3/common/evaluation.py:67: UserWarning: Evaluation environment is not wrapped with a ``Monitor`` wrapper. This may result in reporting modified episode lengths and rewards, if other wrappers happen to modify these. Consider wrapping environment first with ``Monitor`` wrapper.\n",
      "  warnings.warn(\n"
     ]
    },
    {
     "name": "stdout",
     "output_type": "stream",
     "text": [
      "Vanilla Advantage: 1\n",
      "mean_reward:204.99 +/- 76.37\n"
     ]
    }
   ],
   "source": [
    "import gymnasium as gym\n",
    "from stable_baselines3 import A2C\n",
    "from stable_baselines3.common.vec_env import DummyVecEnv\n",
    "from stable_baselines3.common.callbacks import EvalCallback\n",
    "from stable_baselines3.common.evaluation import evaluate_policy\n",
    "\n",
    "env_name = 'CartPole-v1'\n",
    "# Define environment\n",
    "env = DummyVecEnv([lambda: gym.make(env_name)])\n",
    "\n",
    "# Define an evaluation callback to assess the agent's performance during training\n",
    "eval_callback = EvalCallback(\n",
    "    env,\n",
    "    eval_freq=500,  # Evaluate every 500 steps\n",
    "    n_eval_episodes=10,  # Number of episodes to evaluate\n",
    "    deterministic=True,  # Use deterministic policy for evaluation\n",
    "    callback_on_new_best=None,  # Callback when a new best model is found,\n",
    "    verbose=0\n",
    ")\n",
    "\n",
    "# Create and train A2C model\n",
    "model_vanilla = A2C(\"MlpPolicy\", env,gae_lambda=0.92, verbose=0)\n",
    "model_vanilla.learn(total_timesteps=10000,callback=eval_callback)\n",
    "\n",
    "\n",
    "# Collect samples using the trained model\n",
    "obs = env.reset()\n",
    "values, _ = model_vanilla.predict(obs)\n",
    "advantage_vanilla = values.squeeze()\n",
    "print(\"Vanilla Advantage:\", advantage_vanilla)\n",
    "\n",
    "\n",
    "eval_env = gym.make(env_name, render_mode=\"rgb_array\")\n",
    "vanilla_mean_reward, vanilla_std_reward = evaluate_policy(model_vanilla, eval_env, n_eval_episodes=100)\n",
    " \n",
    "print(f\"mean_reward:{vanilla_mean_reward:.2f} +/- {vanilla_std_reward:.2f}\")"
   ]
  },
  {
   "cell_type": "code",
   "execution_count": 2,
   "metadata": {},
   "outputs": [
    {
     "name": "stdout",
     "output_type": "stream",
     "text": [
      "n-step Advantage: 1\n",
      "mean_reward:280.75 +/- 57.85\n"
     ]
    }
   ],
   "source": [
    "import gymnasium as gym\n",
    "from stable_baselines3 import A2C\n",
    "from stable_baselines3.common.vec_env import DummyVecEnv\n",
    "from stable_baselines3.common.callbacks import EvalCallback\n",
    "from stable_baselines3.common.evaluation import evaluate_policy\n",
    "\n",
    "env_name = 'CartPole-v1'\n",
    "# Define environment\n",
    "env = DummyVecEnv([lambda: gym.make(env_name)])\n",
    "\n",
    "# Define an evaluation callback to assess the agent's performance during training\n",
    "eval_callback = EvalCallback(\n",
    "    env,\n",
    "    eval_freq=500,  # Evaluate every 500 steps\n",
    "    n_eval_episodes=10,  # Number of episodes to evaluate\n",
    "    deterministic=True,  # Use deterministic policy for evaluation\n",
    "    callback_on_new_best=None,  # Callback when a new best model is found,\n",
    "    verbose=0\n",
    ")\n",
    "\n",
    "\n",
    "# Create and train A2C model with n-step advantages and returns\n",
    "n_steps = 5\n",
    "model_nstep = A2C(\"MlpPolicy\", env, n_steps=n_steps,gae_lambda=0.98, verbose=0)\n",
    "model_vanilla.learn(total_timesteps=10000,callback=eval_callback)\n",
    "\n",
    "# Collect samples using the trained model\n",
    "obs = env.reset()\n",
    "values, _ = model_nstep.predict(obs)\n",
    "advantage_nstep = values.squeeze()\n",
    "print(\"n-step Advantage:\", advantage_nstep)\n",
    "\n",
    "eval_env = gym.make(env_name, render_mode=\"rgb_array\")\n",
    "n_steps_mean_reward, n_steps_std_reward = evaluate_policy(model_vanilla, eval_env, n_eval_episodes=100)\n",
    "\n",
    "print(f\"mean_reward:{n_steps_mean_reward:.2f} +/- {n_steps_std_reward:.2f}\")\n"
   ]
  },
  {
   "cell_type": "code",
   "execution_count": 3,
   "metadata": {},
   "outputs": [
    {
     "name": "stdout",
     "output_type": "stream",
     "text": [
      "Monte Carlo Advantage: 1\n",
      "mean_reward:275.77 +/- 59.40\n"
     ]
    }
   ],
   "source": [
    "import gymnasium as gym\n",
    "from stable_baselines3 import A2C\n",
    "from stable_baselines3.common.vec_env import DummyVecEnv\n",
    "from stable_baselines3.common.callbacks import EvalCallback\n",
    "from stable_baselines3.common.evaluation import evaluate_policy\n",
    "\n",
    "env_name = 'CartPole-v1'\n",
    "# Define environment\n",
    "env = DummyVecEnv([lambda: gym.make(env_name)])\n",
    "\n",
    "# Define an evaluation callback to assess the agent's performance during training\n",
    "eval_callback = EvalCallback(\n",
    "    env,\n",
    "    eval_freq=500,  # Evaluate every 500 steps\n",
    "    n_eval_episodes=10,  # Number of episodes to evaluate\n",
    "    deterministic=True,  # Use deterministic policy for evaluation\n",
    "    callback_on_new_best=None,  # Callback when a new best model is found,\n",
    "    verbose=0\n",
    ")\n",
    "\n",
    "\n",
    "\n",
    "# Define environment\n",
    "env = DummyVecEnv([lambda: gym.make('CartPole-v1')])\n",
    "\n",
    "# Create and train A2C model with Monte Carlo advantages\n",
    "model_mc = A2C(\"MlpPolicy\", env, n_steps=1,gae_lambda=0.96, verbose=0)\n",
    "model_mc.learn(total_timesteps=10000, callback=eval_callback)\n",
    "\n",
    "# Collect samples using the trained model\n",
    "obs = env.reset()\n",
    "values, _ = model_mc.predict(obs)\n",
    "advantage_mc = values.squeeze()\n",
    "print(\"Monte Carlo Advantage:\", advantage_mc)\n",
    "\n",
    "\n",
    "\n",
    "eval_env = gym.make(env_name, render_mode=\"rgb_array\")\n",
    "mc_mean_reward, mc_std_reward = evaluate_policy(model_vanilla, eval_env, n_eval_episodes=100)\n",
    "\n",
    "print(f\"mean_reward:{mc_mean_reward:.2f} +/- {mc_std_reward:.2f}\")\n"
   ]
  },
  {
   "cell_type": "code",
   "execution_count": 4,
   "metadata": {},
   "outputs": [
    {
     "name": "stdout",
     "output_type": "stream",
     "text": [
      "vanilla_mean_reward:204.99 +/- 76.37\n",
      "n_steps_mean_reward:280.75 +/- 57.85\n",
      "mc_mean_reward:275.77 +/- 59.40\n"
     ]
    }
   ],
   "source": [
    "print(f\"vanilla_mean_reward:{vanilla_mean_reward:.2f} +/- {vanilla_std_reward:.2f}\")\n",
    "print(f\"n_steps_mean_reward:{n_steps_mean_reward:.2f} +/- {n_steps_std_reward:.2f}\")\n",
    "print(f\"mc_mean_reward:{mc_mean_reward:.2f} +/- {mc_std_reward:.2f}\")"
   ]
  },
  {
   "cell_type": "code",
   "execution_count": null,
   "metadata": {},
   "outputs": [],
   "source": []
  },
  {
   "cell_type": "code",
   "execution_count": null,
   "metadata": {},
   "outputs": [],
   "source": []
  },
  {
   "cell_type": "code",
   "execution_count": null,
   "metadata": {},
   "outputs": [],
   "source": []
  },
  {
   "cell_type": "code",
   "execution_count": null,
   "metadata": {},
   "outputs": [],
   "source": []
  }
 ],
 "metadata": {
  "kernelspec": {
   "display_name": "Python 3",
   "language": "python",
   "name": "python3"
  },
  "language_info": {
   "codemirror_mode": {
    "name": "ipython",
    "version": 3
   },
   "file_extension": ".py",
   "mimetype": "text/x-python",
   "name": "python",
   "nbconvert_exporter": "python",
   "pygments_lexer": "ipython3",
   "version": "3.10.11"
  },
  "orig_nbformat": 4
 },
 "nbformat": 4,
 "nbformat_minor": 2
}
