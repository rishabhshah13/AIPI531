{
 "cells": [
  {
   "cell_type": "code",
   "execution_count": 1,
   "metadata": {},
   "outputs": [],
   "source": [
    "import pandas as pd"
   ]
  },
  {
   "cell_type": "code",
   "execution_count": 2,
   "metadata": {},
   "outputs": [],
   "source": [
    "# sorted_events = pd.read_csv('data/events.csv')\n",
    "sorted_events = pd.read_csv('/Users/rishabhshah/Desktop/AIPI531/HW3/Kaggle/data/sorted_events.csv')\n",
    "\n",
    "item_properties_part1 = pd.read_csv('data/item_properties_part1.csv')\n",
    "item_properties_part2 = pd.read_csv('data/item_properties_part2.csv')\n",
    "item_properties = pd.concat([item_properties_part1, item_properties_part2], ignore_index=True)"
   ]
  },
  {
   "cell_type": "code",
   "execution_count": 6,
   "metadata": {},
   "outputs": [],
   "source": [
    "# Remove the 'timestamp' column from the item_properties dataframe and drop any duplicate rows\n",
    "item_properties_ = item_properties.drop(['timestamp'], axis=1).drop_duplicates()\n",
    "\n",
    "# Get a list of unique item IDs from the sorted_events dataframe\n",
    "item_list = sorted_events['item_id'].unique()\n",
    "item_list.sort()\n",
    "\n",
    "# Filter the item_properties_ dataframe to only include items that are in the item_list and drop any duplicate rows\n",
    "item_properties_ = item_properties_[item_properties_['itemid'].isin(item_list)].drop_duplicates()\n",
    "\n",
    "# droppig rows from item_properties_ where the 'property' is 'available' and the 'value' is '0'. This effectively removes any items that are not available.\n",
    "item_properties_ = item_properties_[~((item_properties_['property'] == \"available\") &\n",
    "                        (item_properties_['value'] == '0'))]\n",
    "\n",
    "# Create a new column in item_prop called 'prop_val' that is a combination of the 'property' and 'value' columns. This is done by stripping any leading or trailing whitespace from the 'property' and 'value' columns and then concatenating them together.\n",
    "item_properties_['prop_val'] = item_properties_['property'].str.strip() + item_properties_['value'].str.strip()"
   ]
  },
  {
   "cell_type": "code",
   "execution_count": 7,
   "metadata": {},
   "outputs": [],
   "source": [
    "# # select top 400 properties\n",
    "properties = item_properties_['prop_val'].value_counts().head(400).index.tolist()\n",
    "\n",
    "# # Initialize list\n",
    "item_prop_encoded = []\n",
    "\n",
    "# # Go through each item\n",
    "for item in item_list.tolist():\n",
    "    item_set = set(item_properties_[item_properties_[\"itemid\"] == item]['prop_val'].unique())\n",
    "    new_row = [1 if prop in item_set else 0 for prop in properties]\n",
    "    item_prop_encoded.append(new_row)"
   ]
  },
  {
   "cell_type": "code",
   "execution_count": null,
   "metadata": {},
   "outputs": [
    {
     "data": {
      "text/plain": [
       "((70852,), (1882863, 4))"
      ]
     },
     "execution_count": 5,
     "metadata": {},
     "output_type": "execute_result"
    }
   ],
   "source": [
    "item_list.shape, item_prop.shape"
   ]
  },
  {
   "cell_type": "code",
   "execution_count": null,
   "metadata": {},
   "outputs": [],
   "source": [
    "# convert to df\n",
    "item_prop_encoded_df = pd.DataFrame(item_prop_encoded)\n",
    "\n",
    "# export to CSVs\n",
    "item_prop_encoded_df.to_csv('kaggle/data/item_prop_ohe.csv', index=False)"
   ]
  },
  {
   "cell_type": "code",
   "execution_count": null,
   "metadata": {},
   "outputs": [],
   "source": [
    "    "
   ]
  },
  {
   "cell_type": "code",
   "execution_count": null,
   "metadata": {},
   "outputs": [],
   "source": []
  }
 ],
 "metadata": {
  "kernelspec": {
   "display_name": "Python 3",
   "language": "python",
   "name": "python3"
  },
  "language_info": {
   "codemirror_mode": {
    "name": "ipython",
    "version": 3
   },
   "file_extension": ".py",
   "mimetype": "text/x-python",
   "name": "python",
   "nbconvert_exporter": "python",
   "pygments_lexer": "ipython3",
   "version": "3.10.11"
  }
 },
 "nbformat": 4,
 "nbformat_minor": 2
}
